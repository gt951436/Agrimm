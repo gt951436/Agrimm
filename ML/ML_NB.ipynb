{
 "cells": [
  {
   "cell_type": "code",
   "execution_count": null,
   "id": "e4050e08-c4cb-4ba5-992d-37b5ee4df9ff",
   "metadata": {},
   "outputs": [
    {
     "name": "stdout",
     "output_type": "stream",
     "text": [
      "Defaulting to user installation because normal site-packages is not writeable\n",
      "Requirement already satisfied: matplotlib in c:\\users\\manoj\\appdata\\roaming\\python\\python313\\site-packages (3.10.3)\n",
      "Requirement already satisfied: numpy in c:\\users\\manoj\\appdata\\roaming\\python\\python313\\site-packages (2.3.0)\n",
      "Requirement already satisfied: pandas in c:\\users\\manoj\\appdata\\roaming\\python\\python313\\site-packages (2.3.0)\n",
      "Requirement already satisfied: scikit-learn in c:\\users\\manoj\\appdata\\roaming\\python\\python313\\site-packages (1.7.0)\n",
      "Requirement already satisfied: seaborn in c:\\users\\manoj\\appdata\\roaming\\python\\python313\\site-packages (0.13.2)\n",
      "Requirement already satisfied: opendatasets in c:\\users\\manoj\\appdata\\roaming\\python\\python313\\site-packages (0.1.22)\n",
      "Requirement already satisfied: legacy-cgi in c:\\users\\manoj\\appdata\\roaming\\python\\python313\\site-packages (2.6.3)\n",
      "Requirement already satisfied: contourpy>=1.0.1 in c:\\users\\manoj\\appdata\\roaming\\python\\python313\\site-packages (from matplotlib) (1.3.2)\n",
      "Requirement already satisfied: cycler>=0.10 in c:\\users\\manoj\\appdata\\roaming\\python\\python313\\site-packages (from matplotlib) (0.12.1)\n",
      "Requirement already satisfied: fonttools>=4.22.0 in c:\\users\\manoj\\appdata\\roaming\\python\\python313\\site-packages (from matplotlib) (4.58.2)\n",
      "Requirement already satisfied: kiwisolver>=1.3.1 in c:\\users\\manoj\\appdata\\roaming\\python\\python313\\site-packages (from matplotlib) (1.4.8)\n",
      "Requirement already satisfied: packaging>=20.0 in c:\\users\\manoj\\appdata\\roaming\\python\\python313\\site-packages (from matplotlib) (25.0)\n",
      "Requirement already satisfied: pillow>=8 in c:\\users\\manoj\\appdata\\roaming\\python\\python313\\site-packages (from matplotlib) (11.2.1)\n",
      "Requirement already satisfied: pyparsing>=2.3.1 in c:\\users\\manoj\\appdata\\roaming\\python\\python313\\site-packages (from matplotlib) (3.2.3)\n",
      "Requirement already satisfied: python-dateutil>=2.7 in c:\\users\\manoj\\appdata\\roaming\\python\\python313\\site-packages (from matplotlib) (2.9.0.post0)\n",
      "Requirement already satisfied: pytz>=2020.1 in c:\\users\\manoj\\appdata\\roaming\\python\\python313\\site-packages (from pandas) (2025.2)\n",
      "Requirement already satisfied: tzdata>=2022.7 in c:\\users\\manoj\\appdata\\roaming\\python\\python313\\site-packages (from pandas) (2025.2)\n",
      "Requirement already satisfied: scipy>=1.8.0 in c:\\users\\manoj\\appdata\\roaming\\python\\python313\\site-packages (from scikit-learn) (1.15.3)\n",
      "Requirement already satisfied: joblib>=1.2.0 in c:\\users\\manoj\\appdata\\roaming\\python\\python313\\site-packages (from scikit-learn) (1.5.1)\n",
      "Requirement already satisfied: threadpoolctl>=3.1.0 in c:\\users\\manoj\\appdata\\roaming\\python\\python313\\site-packages (from scikit-learn) (3.6.0)\n",
      "Requirement already satisfied: tqdm in c:\\users\\manoj\\appdata\\roaming\\python\\python313\\site-packages (from opendatasets) (4.67.1)\n",
      "Requirement already satisfied: kaggle in c:\\users\\manoj\\appdata\\roaming\\python\\python313\\site-packages (from opendatasets) (1.7.4.5)\n",
      "Requirement already satisfied: click in c:\\users\\manoj\\appdata\\roaming\\python\\python313\\site-packages (from opendatasets) (8.2.1)\n",
      "Requirement already satisfied: six>=1.5 in c:\\users\\manoj\\appdata\\roaming\\python\\python313\\site-packages (from python-dateutil>=2.7->matplotlib) (1.17.0)\n",
      "Requirement already satisfied: colorama in c:\\users\\manoj\\appdata\\roaming\\python\\python313\\site-packages (from click->opendatasets) (0.4.6)\n",
      "Requirement already satisfied: bleach in c:\\users\\manoj\\appdata\\roaming\\python\\python313\\site-packages (from kaggle->opendatasets) (6.2.0)\n",
      "Requirement already satisfied: certifi>=14.05.14 in c:\\users\\manoj\\appdata\\roaming\\python\\python313\\site-packages (from kaggle->opendatasets) (2025.4.26)\n",
      "Requirement already satisfied: charset-normalizer in c:\\users\\manoj\\appdata\\roaming\\python\\python313\\site-packages (from kaggle->opendatasets) (3.4.2)\n",
      "Requirement already satisfied: idna in c:\\users\\manoj\\appdata\\roaming\\python\\python313\\site-packages (from kaggle->opendatasets) (3.10)\n",
      "Requirement already satisfied: protobuf in c:\\users\\manoj\\appdata\\roaming\\python\\python313\\site-packages (from kaggle->opendatasets) (6.31.1)\n",
      "Requirement already satisfied: python-slugify in c:\\users\\manoj\\appdata\\roaming\\python\\python313\\site-packages (from kaggle->opendatasets) (8.0.4)\n",
      "Requirement already satisfied: requests in c:\\users\\manoj\\appdata\\roaming\\python\\python313\\site-packages (from kaggle->opendatasets) (2.32.3)\n",
      "Requirement already satisfied: setuptools>=21.0.0 in c:\\users\\manoj\\appdata\\roaming\\python\\python313\\site-packages (from kaggle->opendatasets) (80.9.0)\n",
      "Requirement already satisfied: text-unidecode in c:\\users\\manoj\\appdata\\roaming\\python\\python313\\site-packages (from kaggle->opendatasets) (1.3)\n",
      "Requirement already satisfied: urllib3>=1.15.1 in c:\\users\\manoj\\appdata\\roaming\\python\\python313\\site-packages (from kaggle->opendatasets) (2.4.0)\n",
      "Requirement already satisfied: webencodings in c:\\users\\manoj\\appdata\\roaming\\python\\python313\\site-packages (from kaggle->opendatasets) (0.5.1)\n",
      "Note: you may need to restart the kernel to use updated packages.\n"
     ]
    },
    {
     "name": "stderr",
     "output_type": "stream",
     "text": [
      "\n",
      "[notice] A new release of pip is available: 25.0.1 -> 25.1.1\n",
      "[notice] To update, run: python.exe -m pip install --upgrade pip\n"
     ]
    }
   ],
   "source": [
    "%pip install matplotlib numpy pandas scikit-learn seaborn opendatasets legacy-cgi "
   ]
  },
  {
   "cell_type": "code",
   "execution_count": null,
   "id": "370f182f-6f94-4dd2-8822-bf624a6dfadb",
   "metadata": {},
   "outputs": [
    {
     "name": "stdout",
     "output_type": "stream",
     "text": [
      "Please provide your Kaggle credentials to download this dataset. Learn more: http://bit.ly/kaggle-creds\n",
      "Your Kaggle username:Your Kaggle Key:Your Kaggle Key:Your Kaggle Key:Your Kaggle Key:Your Kaggle Key:Your Kaggle Key:Your Kaggle Key:"
     ]
    }
   ],
   "source": [
    "import matplotlib.pyplot as plt\n",
    "import numpy as np\n",
    "import pandas as pd\n",
    "import opendatasets as od\n",
    "od.download('https://www.kaggle.com/datasets/shankarpriya2913/crop-and-soil-dataset')\n",
    "from sklearn.model_selection import train_test_split\n",
    "from sklearn.metrics import mean_absolute_error,mean_squared_error,r2_score"
   ]
  },
  {
   "cell_type": "code",
   "execution_count": null,
   "id": "37885d64-6d46-47aa-90e6-ef302a73dfbe",
   "metadata": {},
   "outputs": [],
   "source": [
    "df = pd.read_csv('crop-and-soil-dataset/data_core.csv')\n",
    "eval_metrics = [['Model','MAE','MSE','RMSE','R2'],0,0,0,0]"
   ]
  },
  {
   "cell_type": "code",
   "execution_count": null,
   "id": "4c339557-376f-42c7-99e6-f38f63e1916b",
   "metadata": {},
   "outputs": [],
   "source": [
    "#categorical columns\n",
    "categorical_cols = ['Soil Type', 'Crop Type']\n",
    "\n",
    "from sklearn.preprocessing import LabelEncoder\n",
    "encoders = {}\n",
    "for col in categorical_cols:\n",
    "    enc = LabelEncoder()\n",
    "    df[col] = enc.fit_transform(df[col])\n",
    "    encoders[col] = enc  # store encoder for later\n",
    "\n",
    "print(\"Mappings for Soil Type:\", list(encoders['Soil Type'].classes_))\n",
    "print(\"Mappings for Crop Type:\", list(encoders['Crop Type'].classes_))\n",
    "\n",
    "print(df.head())\n"
   ]
  },
  {
   "cell_type": "code",
   "execution_count": null,
   "id": "33ce7afb-c5ae-45b5-8a73-51b149b81009",
   "metadata": {},
   "outputs": [],
   "source": [
    "corr_matrix = df.corr(numeric_only = True)\n",
    "print(corr_matrix)"
   ]
  },
  {
   "cell_type": "code",
   "execution_count": null,
   "id": "b6f2f44d-bce6-4803-836a-3e59fc4f1197",
   "metadata": {},
   "outputs": [],
   "source": [
    "import seaborn as sns\n",
    "import matplotlib.pyplot as plt\n",
    "\n",
    "corr_matrix = df.corr(numeric_only=True)  # or use numeric_df.corr()\n",
    "plt.figure(figsize=(10, 8))\n",
    "sns.heatmap(corr_matrix, annot=True, cmap='coolwarm')\n",
    "plt.show()\n"
   ]
  },
  {
   "cell_type": "code",
   "execution_count": null,
   "id": "2af4eea2-e370-4bb8-8d9f-8191b2af3acc",
   "metadata": {},
   "outputs": [],
   "source": []
  }
 ],
 "metadata": {
  "kernelspec": {
   "display_name": "Python 3 (ipykernel)",
   "language": "python",
   "name": "python3"
  },
  "language_info": {
   "codemirror_mode": {
    "name": "ipython",
    "version": 3
   },
   "file_extension": ".py",
   "mimetype": "text/x-python",
   "name": "python",
   "nbconvert_exporter": "python",
   "pygments_lexer": "ipython3",
   "version": "3.13.3"
  }
 },
 "nbformat": 4,
 "nbformat_minor": 5
}
